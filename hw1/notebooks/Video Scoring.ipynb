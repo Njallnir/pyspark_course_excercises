{
 "cells": [
  {
   "attachments": {},
   "cell_type": "markdown",
   "id": "dc60779a",
   "metadata": {},
   "source": [
    "# Подключаем библиотеки"
   ]
  },
  {
   "cell_type": "code",
   "execution_count": 1,
   "id": "b44a13b8",
   "metadata": {},
   "outputs": [
    {
     "name": "stderr",
     "output_type": "stream",
     "text": [
      "/usr/local/spark/python/pyspark/pandas/__init__.py:50: UserWarning: 'PYARROW_IGNORE_TIMEZONE' environment variable was not set. It is required to set this environment variable to '1' in both driver and executor sides if you use pyarrow>=2.0.0. pandas-on-Spark will set it for you but it does not work if there is a Spark context already launched.\n",
      "  warnings.warn(\n"
     ]
    }
   ],
   "source": [
    "import json\n",
    "import numpy as np\n",
    "import os\n",
    "import pandas as pd\n",
    "import pyspark\n",
    "import pyspark.pandas as ps\n",
    "import random\n",
    "\n",
    "from pyspark.sql import SparkSession\n",
    "from pyspark.sql.column import Column\n",
    "from pyspark.sql.column import _to_java_column\n",
    "from pyspark.sql.column import _to_seq\n",
    "from pyspark.sql.functions import *\n",
    "from pyspark.sql.types import *\n",
    "from pyspark.sql.window import Window"
   ]
  },
  {
   "attachments": {},
   "cell_type": "markdown",
   "id": "25bdb10d",
   "metadata": {},
   "source": [
    "# Читаем данные"
   ]
  },
  {
   "attachments": {},
   "cell_type": "markdown",
   "id": "b5de9424",
   "metadata": {},
   "source": [
    "Оптимизация\n",
    "\n",
    "1. На видео и комментарии вешаем bucketing по video id - по этому полю происходит join чаще всего, и подобный подход позволяет избежать практически всех Exchange за исключением случаев, например, с groupby по другой колонке.\n",
    "2. На категории вешаем `broadcast` - маленький справочник\n",
    "3. Другие вариант оптимизации нерентабельны для соления нет значительного перекоса, фильтр Блума практически ничего не отфильтрует - джоин видео и комментариев не так много строк отбрасывает"
   ]
  },
  {
   "cell_type": "code",
   "execution_count": 2,
   "id": "1945012e-63e3-4d0b-b6b3-b2ed7a3061dd",
   "metadata": {},
   "outputs": [],
   "source": [
    "spark = SparkSession.builder.master('local') \\\n",
    "    .config('spark.sql.autoBroadcastJoinThreshold', 0) \\\n",
    "    .config('spark.sql.adaptive.enabled', 'false') \\\n",
    "    .getOrCreate()"
   ]
  },
  {
   "cell_type": "code",
   "execution_count": 3,
   "id": "1c2a19f1-09d4-433b-bb14-495e1f69bf43",
   "metadata": {},
   "outputs": [],
   "source": [
    "# videos = spark.read\\\n",
    "#     .option('header', 'true')\\\n",
    "#     .option('inferSchema', 'true')\\\n",
    "#     .csv('datasets/USvideos.csv')\n",
    "\n",
    "videos_raw = spark.read\\\n",
    "    .option('header', 'true')\\\n",
    "    .option('inferSchema', 'true')\\\n",
    "    .csv('datasets/USvideos.csv')\n",
    "videos_raw.write\\\n",
    "    .bucketBy(128, 'video_id')\\\n",
    "    .saveAsTable('USvideos', format = 'csv', mode = 'overwrite')\n",
    "videos = spark.table('USvideos')"
   ]
  },
  {
   "cell_type": "code",
   "execution_count": 4,
   "id": "34fcc140",
   "metadata": {},
   "outputs": [],
   "source": [
    "videos_sdim_df = videos\\\n",
    "    .withColumn('rnk', row_number()\\\n",
    "                .over(Window.partitionBy('video_id').orderBy(col('date').desc(), col('views').desc()))\\\n",
    "                )\\\n",
    "                .filter(col('rnk') == 1)\\\n",
    "                .drop(col('rnk'))"
   ]
  },
  {
   "cell_type": "code",
   "execution_count": 5,
   "id": "805005cc-0c92-45e3-ab79-44a348f9c2d3",
   "metadata": {},
   "outputs": [],
   "source": [
    "comments_schema = StructType([ \\\n",
    "    StructField('video_id', StringType(), True), \\\n",
    "    StructField('comment_text', StringType(), True), \\\n",
    "    StructField('likes', IntegerType(), True), \\\n",
    "    StructField('replies', IntegerType(), True)])\n",
    "\n",
    "# comments = spark.read.option('header', 'true').option('mode', 'DROPMALFORMED').schema(comments_schema).csv('datasets/UScomments.csv')\n",
    "\n",
    "comments_raw = spark.read.option('header', 'true').option('mode', 'DROPMALFORMED').schema(comments_schema).csv('datasets/UScomments.csv')\n",
    "\n",
    "comments_raw.write \\\n",
    "    .bucketBy(128, 'video_id') \\\n",
    "    .saveAsTable('USComments', fprmat = 'csv', mode = 'overwrite')\n",
    "\n",
    "comments = spark.table('USComments')"
   ]
  },
  {
   "attachments": {},
   "cell_type": "markdown",
   "id": "d842bcf7",
   "metadata": {},
   "source": [
    "# Считаем рейтинг видео"
   ]
  },
  {
   "cell_type": "code",
   "execution_count": 6,
   "id": "7691eda5",
   "metadata": {},
   "outputs": [],
   "source": [
    "@udf(returnType = DoubleType())\n",
    "def calculate_video_score(views: int, likes: int, dislikes: int,comment_likes_count: int):\n",
    "    return\\\n",
    "        int(likes or 0)\\\n",
    "        + random.random() * int(views or 0) * 0.2\\\n",
    "        - 2 * int(dislikes or 0)\\\n",
    "        + int(comment_likes_count or 0) * 0.01\n"
   ]
  },
  {
   "cell_type": "code",
   "execution_count": 7,
   "id": "540cc05c",
   "metadata": {},
   "outputs": [
    {
     "name": "stderr",
     "output_type": "stream",
     "text": [
      "/usr/local/spark/python/pyspark/sql/pandas/functions.py:399: UserWarning: In Python 3.6+ and Spark 3.0+, it is preferred to specify type hints for pandas UDF instead of specifying pandas UDF type which will be deprecated in the future releases. See SPARK-28264 for more details.\n",
      "  warnings.warn(\n"
     ]
    }
   ],
   "source": [
    "@pandas_udf(DoubleType(),PandasUDFType.SCALAR)\n",
    "def calculate_video_score(views, likes, dislikes,comment_likes_count):\n",
    "    return\\\n",
    "        likes.fillna(0)\\\n",
    "        + np.random.rand(*views.shape) * views.fillna(0) * 0.2\\\n",
    "        - 2 * dislikes.fillna(0)\\\n",
    "        + comment_likes_count.fillna(0) * 0.01\n"
   ]
  },
  {
   "cell_type": "code",
   "execution_count": 8,
   "id": "db84c578-240c-42d3-8b69-5880a8ea2ad2",
   "metadata": {},
   "outputs": [],
   "source": [
    "video_comments_figures = comments.groupBy('video_id')\\\n",
    "    .agg(\\\n",
    "        sum('likes').alias('comment_likes_count'),\\\n",
    "        sum('replies').alias('comment_replies_count')\\\n",
    "        )"
   ]
  },
  {
   "cell_type": "code",
   "execution_count": 9,
   "id": "41b7e83b",
   "metadata": {},
   "outputs": [
    {
     "name": "stdout",
     "output_type": "stream",
     "text": [
      "+-----------+--------------------+--------------------+-----------+--------------------+-------+------+--------+-------------+--------------------+-----+-------------------+------------------+\n",
      "|   video_id|               title|       channel_title|category_id|                tags|  views| likes|dislikes|comment_total|      thumbnail_link| date|comment_likes_count|       video_score|\n",
      "+-----------+--------------------+--------------------+-----------+--------------------+-------+------+--------+-------------+--------------------+-----+-------------------+------------------+\n",
      "|-LoSw4o2zDQ|How to Make Pushe...|    kawaiisweetworld|         26|recipe|recipes|ho...|  62600|  4715|      29|          483|https://i.ytimg.c...|14.10|                567|14304.832808630792|\n",
      "|2Hz4sDjXPQY|Kingsman: The Gol...|    20th Century Fox|          1|Puppy|Spy Movies|...| 288222|  2003|      77|          208|https://i.ytimg.c...|21.09|               3692| 50462.12428286221|\n",
      "|2YGrrsKs-Xg|Jimmy Kimmel’s FU...|   Jimmy Kimmel Live|         23|jimmy|jimmy kimme...|1287641| 14600|    1220|         2294|https://i.ytimg.c...|19.10|                  9|105179.95923985734|\n",
      "|BHD3uqfbcRQ|How To Make Sausa...|         Bon Appétit|         26|sausage|sausage m...| 189914|  5483|     109|          615|https://i.ytimg.c...|18.10|                118|14625.772192808849|\n",
      "|SeUyzOP3mys|Intense 🎙️ ASMR ...|Gentle Whispering...|         26|ASMR|[ASMR]|asmr|...| 921008| 24448|    1062|         5360|https://i.ytimg.c...|14.10|               5093|147494.97221769788|\n",
      "|TMy0vJfKvzI|A Boy Ate 25 Laxa...|           Chubbyemu|         28|medical|medicine|...| 733187| 12590|     505|         1432|https://i.ytimg.c...|07.10|                803| 20510.13457235828|\n",
      "|W-97_yKHQHg|More than 800 peo...|            CBS News|         25|World|spain|catal...|  15405|   169|      14|          196|https://i.ytimg.c...|03.10|                245|2408.9223204399977|\n",
      "|_oO0pd8VJjY|      Late Night Pho|              Domics|         23|domics|animation|...|1987959|150289|     921|        13857|https://i.ytimg.c...|06.10|                 38|312053.16829908406|\n",
      "|c5vSFtnWkDA|OFFICIAL HOUSE TO...|     Domo and Crissy|         23|domo|domo and cri...|1204955| 76135|    1798|         9697|https://i.ytimg.c...|16.10|              27518| 144276.1978394169|\n",
      "|cWL4eiCR8FM|DIY Halloween PIN...|        ThreadBanger|         26|DIY|threadbanger|...| 862970| 44671|     569|         3811|https://i.ytimg.c...|22.10|                 10|141415.27856252037|\n",
      "|g_ekn1gjBq0|The Difference Be...|          Refinery29|         26|refinery29|refine...|   9534|   213|      10|           32|https://i.ytimg.c...|04.10|                 47|409.78997572435424|\n",
      "|ge0fLnC_WNc|Donald Trump on N...|                 CNN|         25|President|Donald ...| 119114|   568|     937|         1850|https://i.ytimg.c...|09.10|                 13| 2108.470547015096|\n",
      "|jjb77v3LX_s|The King of Infom...|     Great Big Story|         22|great big story|g...| 219221|  4532|     152|          553|https://i.ytimg.c...|20.09|                 39| 16657.95778627001|\n",
      "|lno7AN8hLvQ|My Butt Has Some ...|        vlogbrothers|         22|              [none]| 248787| 12683|     566|         2096|https://i.ytimg.c...|20.09|                 36|14463.736290956473|\n",
      "|tBN9kLaS-uw|My Boyfriend Buys...|        JennaMarbles|         23|jenna|marbles|mou...|2822860|175347|    1710|        16202|https://i.ytimg.c...|20.09|                 73|  538754.649522105|\n",
      "|tfHCtgyT-oQ|Turtles All the W...|        vlogbrothers|         22|books|reading|pub...| 246029| 15603|     217|         2189|https://i.ytimg.c...|13.10|                 32|36971.082837120535|\n",
      "|-QL9dvmddYs|Ollie's Baby is B...|               JOLLY|         23|Jolly|JOLLY|jolly...| 693211| 36518|     197|         5897|https://i.ytimg.c...|30.09|                 42|164717.65574444106|\n",
      "|5qlSfNVp3fU|Crazy Lion Plays ...|  Cole and Marmalade|         15|cats|cat videos|f...| 376610|  8214|     240|          111|https://i.ytimg.c...|19.10|               1428|  7979.39177927537|\n",
      "|6cnobaJFY-M|The Voice 2017 - ...|           The Voice|         24|Exclusive Content...| 390967|  4156|     287|          794|https://i.ytimg.c...|22.10|                 90| 55093.69492058963|\n",
      "|7uOvL5eLpeE|Jeremy Camp - Nev...|      JeremyCampVEVO|         10|Jeremy|Camp|Never...|  21708|  1712|      17|          134|https://i.ytimg.c...|30.09|                751|2036.4477012669156|\n",
      "+-----------+--------------------+--------------------+-----------+--------------------+-------+------+--------+-------------+--------------------+-----+-------------------+------------------+\n",
      "only showing top 20 rows\n",
      "\n"
     ]
    }
   ],
   "source": [
    "scored_video = videos_sdim_df.alias('videos')\\\n",
    "    .join(video_comments_figures, videos_sdim_df.video_id == video_comments_figures.video_id, 'left')\\\n",
    "    .select([\n",
    "        'videos.*',\n",
    "        col('comment_likes_count')\n",
    "    ])\\\n",
    "    .withColumn(\\\n",
    "        'video_score',\\\n",
    "        calculate_video_score(\\\n",
    "            col('views'),\\\n",
    "            col('likes'),\\\n",
    "            col('dislikes'),\\\n",
    "            col('comment_likes_count')\\\n",
    "        )\\\n",
    "    )\n",
    "scored_video.show()"
   ]
  },
  {
   "attachments": {},
   "cell_type": "markdown",
   "id": "69461b6f",
   "metadata": {},
   "source": [
    "# Собираем медиану рейтинга по категории"
   ]
  },
  {
   "cell_type": "code",
   "execution_count": 10,
   "id": "deeea477",
   "metadata": {},
   "outputs": [],
   "source": [
    "@pandas_udf(DoubleType(), PandasUDFType.GROUPED_AGG)\n",
    "def pandas_mean(x):\n",
    "    return x.mean()\n"
   ]
  },
  {
   "cell_type": "code",
   "execution_count": 11,
   "id": "616e875f",
   "metadata": {},
   "outputs": [],
   "source": [
    "categories_json = json.load(open('datasets/US_category_id.json'))\n",
    "[x.update(x['snippet']) for x in categories_json['items']]\n",
    "\n",
    "# categories_df = spark.read.json(\\\n",
    "#         spark.sparkContext.parallelize(categories_json['items']).map(lambda x: json.dumps(x))\n",
    "#     ).select(['id', 'title'])\\\n",
    "#     .withColumnRenamed('title', 'category_title')\n",
    "\n",
    "categories_df = broadcast(spark.read.json(\\\n",
    "        spark.sparkContext.parallelize(categories_json['items']).map(lambda x: json.dumps(x))\n",
    "    ).select(['id', 'title'])\\\n",
    "    .withColumnRenamed('title', 'category_title'))"
   ]
  },
  {
   "cell_type": "code",
   "execution_count": 12,
   "id": "5950ce87",
   "metadata": {},
   "outputs": [
    {
     "name": "stdout",
     "output_type": "stream",
     "text": [
      "+--------------------+------------------+\n",
      "|      category_title|        mean_score|\n",
      "+--------------------+------------------+\n",
      "|               Shows|1149.7542397083937|\n",
      "|           Education|64891.244558535014|\n",
      "|              Gaming| 79795.06899696293|\n",
      "|       Entertainment|136762.90155528876|\n",
      "|     Travel & Events|53936.921381365726|\n",
      "|Science & Technology|103083.25274564735|\n",
      "|              Sports| 84678.97337789509|\n",
      "|       Howto & Style| 80119.25228595799|\n",
      "|Nonprofits & Acti...| 84960.11181624637|\n",
      "|    Film & Animation| 114783.3445881312|\n",
      "|      People & Blogs| 125965.0905301521|\n",
      "|     News & Politics|48095.048304826116|\n",
      "|      Pets & Animals|  78373.5449328473|\n",
      "|    Autos & Vehicles|  85864.2600207591|\n",
      "|               Music|226985.87508961212|\n",
      "|              Comedy|184678.30789331047|\n",
      "+--------------------+------------------+\n",
      "\n"
     ]
    }
   ],
   "source": [
    "categories_score_df =  scored_video\\\n",
    "    .join(\\\n",
    "        categories_df,\\\n",
    "        scored_video.category_id == categories_df.id,\\\n",
    "        'left')\\\n",
    "    .groupBy('category_title')\\\n",
    "    .agg(\n",
    "        pandas_mean(scored_video.video_score).alias('mean_score')\n",
    "    )\n",
    "categories_score_df.show()\n"
   ]
  },
  {
   "cell_type": "code",
   "execution_count": 13,
   "id": "c675756f",
   "metadata": {},
   "outputs": [
    {
     "name": "stdout",
     "output_type": "stream",
     "text": [
      "+--------------------+------------------+\n",
      "|      category_title|       video_score|\n",
      "+--------------------+------------------+\n",
      "|               Shows|152.44155257191852|\n",
      "|           Education|  68601.3536633228|\n",
      "|              Gaming|114232.29525004755|\n",
      "|       Entertainment|130068.50803116577|\n",
      "|     Travel & Events| 42764.20499285154|\n",
      "|Science & Technology|107895.05077725809|\n",
      "|              Sports| 60017.79673221497|\n",
      "|       Howto & Style| 84084.64206916135|\n",
      "|Nonprofits & Acti...|  76852.2341191004|\n",
      "|    Film & Animation|135470.48532708985|\n",
      "|      People & Blogs|117692.51739586651|\n",
      "|     News & Politics|49403.226958063584|\n",
      "|      Pets & Animals| 73842.42585390672|\n",
      "|    Autos & Vehicles| 64603.52009777978|\n",
      "|               Music|  201868.490963744|\n",
      "|              Comedy|178972.39863292963|\n",
      "+--------------------+------------------+\n",
      "\n"
     ]
    }
   ],
   "source": [
    "categories_score_psdf = scored_video\\\n",
    "                .join(\\\n",
    "                    categories_df,\\\n",
    "                    scored_video.category_id == categories_df.id,\\\n",
    "                    'left')\\\n",
    "                .select([\n",
    "                    categories_df.category_title,\n",
    "                    scored_video.video_score\n",
    "                ]).pandas_api()\\\n",
    "                .groupby(['category_title'])['video_score'].mean()\n",
    "categories_score_psdf.to_frame().to_spark(index_col = 'category_title').show()"
   ]
  },
  {
   "cell_type": "code",
   "execution_count": 14,
   "id": "eadc9e96",
   "metadata": {},
   "outputs": [
    {
     "name": "stdout",
     "output_type": "stream",
     "text": [
      "+--------------------+------------------+\n",
      "|      category_title|       video_score|\n",
      "+--------------------+------------------+\n",
      "|               Shows|1273.5684870669998|\n",
      "|           Education|  76862.8979274907|\n",
      "|              Gaming|101646.47955064183|\n",
      "|       Entertainment|130674.41466660566|\n",
      "|     Travel & Events| 67133.58294280886|\n",
      "|Science & Technology| 91794.05718070792|\n",
      "|              Sports| 65767.65705043857|\n",
      "|       Howto & Style| 79194.12063912717|\n",
      "|Nonprofits & Acti...|104960.29004804848|\n",
      "|    Film & Animation|129949.44678126607|\n",
      "|      People & Blogs|119120.95657795848|\n",
      "|     News & Politics| 48438.17021188621|\n",
      "|      Pets & Animals| 71810.13633152505|\n",
      "|    Autos & Vehicles| 71376.28455411384|\n",
      "|               Music|219701.52193703968|\n",
      "|              Comedy|173730.91479345656|\n",
      "+--------------------+------------------+\n",
      "\n"
     ]
    }
   ],
   "source": [
    "categories_score_psdf_full = ps.merge(\n",
    "    scored_video.pandas_api(),\n",
    "    categories_df.pandas_api(),\n",
    "    how = 'inner',\n",
    "    left_on = 'category_id',\n",
    "    right_on = 'id').groupby(['category_title'])['video_score'].mean()\n",
    "categories_score_psdf_full.to_frame().to_spark(index_col = 'category_title').show()"
   ]
  },
  {
   "attachments": {},
   "cell_type": "markdown",
   "id": "040f7ce1",
   "metadata": {},
   "source": [
    "# Смотрим на популярные тэги"
   ]
  },
  {
   "cell_type": "code",
   "execution_count": 15,
   "id": "582282ee",
   "metadata": {},
   "outputs": [],
   "source": [
    "def split_udf(value, separator):\n",
    "    @udf(returnType = ArrayType(StringType()))\n",
    "    def split_udf_inner(value):\n",
    "        return value.split(separator)\n",
    "    return split_udf_inner(value)"
   ]
  },
  {
   "cell_type": "code",
   "execution_count": 16,
   "id": "93181ee0",
   "metadata": {},
   "outputs": [],
   "source": [
    "def split_pudf(value, separator):\n",
    "    @pandas_udf(ArrayType(StringType()), PandasUDFType.SCALAR)\n",
    "    def split_pudf_inner(value):\n",
    "        return value.str.split(pat=separator)\n",
    "    return split_pudf_inner(value)"
   ]
  },
  {
   "cell_type": "code",
   "execution_count": 17,
   "id": "f746186f",
   "metadata": {},
   "outputs": [],
   "source": [
    "def split_scala(tags):\n",
    "    _split_scala_udf = spark._jvm.CustomUDFs.splitTagsUDF()\n",
    "    return Column(_split_scala_udf.apply(_to_seq(spark, [tags], _to_java_column)))"
   ]
  },
  {
   "cell_type": "code",
   "execution_count": 18,
   "id": "72637f36",
   "metadata": {},
   "outputs": [
    {
     "name": "stdout",
     "output_type": "stream",
     "text": [
      "+------------+----------------+--------------------+\n",
      "|tag_video_id|             tag|                tags|\n",
      "+------------+----------------+--------------------+\n",
      "| -LoSw4o2zDQ|          recipe|recipe|recipes|ho...|\n",
      "| -LoSw4o2zDQ|         recipes|recipe|recipes|ho...|\n",
      "| -LoSw4o2zDQ|     how to make|recipe|recipes|ho...|\n",
      "| -LoSw4o2zDQ|     how to bake|recipe|recipes|ho...|\n",
      "| -LoSw4o2zDQ|         cooking|recipe|recipes|ho...|\n",
      "| -LoSw4o2zDQ|            food|recipe|recipes|ho...|\n",
      "| -LoSw4o2zDQ|          sweets|recipe|recipes|ho...|\n",
      "| -LoSw4o2zDQ|         dessert|recipe|recipes|ho...|\n",
      "| -LoSw4o2zDQ|            cute|recipe|recipes|ho...|\n",
      "| -LoSw4o2zDQ|            easy|recipe|recipes|ho...|\n",
      "| -LoSw4o2zDQ|           quick|recipe|recipes|ho...|\n",
      "| -LoSw4o2zDQ|          kawaii|recipe|recipes|ho...|\n",
      "| -LoSw4o2zDQ|   kawaii baking|recipe|recipes|ho...|\n",
      "| -LoSw4o2zDQ|kawaiisweetworld|recipe|recipes|ho...|\n",
      "| -LoSw4o2zDQ|     kawaii food|recipe|recipes|ho...|\n",
      "| -LoSw4o2zDQ|       cute food|recipe|recipes|ho...|\n",
      "| -LoSw4o2zDQ|     cute baking|recipe|recipes|ho...|\n",
      "| -LoSw4o2zDQ|    cute dessert|recipe|recipes|ho...|\n",
      "| -LoSw4o2zDQ|  kawaii dessert|recipe|recipes|ho...|\n",
      "| -LoSw4o2zDQ|     easy baking|recipe|recipes|ho...|\n",
      "+------------+----------------+--------------------+\n",
      "only showing top 20 rows\n",
      "\n"
     ]
    }
   ],
   "source": [
    "tags = videos_sdim_df\\\n",
    "    .select([\\\n",
    "        videos_sdim_df.video_id.alias('tag_video_id'),\\\n",
    "        split(videos_sdim_df.tags, '\\|').alias('tags_array'),\\\n",
    "        videos_sdim_df.tags]\\\n",
    "    )\\\n",
    "    .select([\\\n",
    "        col('tag_video_id'),\\\n",
    "        explode(col('tags_array')).alias('tag'),\\\n",
    "        col('tags')\\\n",
    "    ])\n",
    "tags.show()"
   ]
  },
  {
   "cell_type": "code",
   "execution_count": 19,
   "id": "f84b6464",
   "metadata": {},
   "outputs": [
    {
     "name": "stdout",
     "output_type": "stream",
     "text": [
      "+------------+----------------+--------------------+\n",
      "|tag_video_id|             tag|                tags|\n",
      "+------------+----------------+--------------------+\n",
      "| -LoSw4o2zDQ|          recipe|recipe|recipes|ho...|\n",
      "| -LoSw4o2zDQ|         recipes|recipe|recipes|ho...|\n",
      "| -LoSw4o2zDQ|     how to make|recipe|recipes|ho...|\n",
      "| -LoSw4o2zDQ|     how to bake|recipe|recipes|ho...|\n",
      "| -LoSw4o2zDQ|         cooking|recipe|recipes|ho...|\n",
      "| -LoSw4o2zDQ|            food|recipe|recipes|ho...|\n",
      "| -LoSw4o2zDQ|          sweets|recipe|recipes|ho...|\n",
      "| -LoSw4o2zDQ|         dessert|recipe|recipes|ho...|\n",
      "| -LoSw4o2zDQ|            cute|recipe|recipes|ho...|\n",
      "| -LoSw4o2zDQ|            easy|recipe|recipes|ho...|\n",
      "| -LoSw4o2zDQ|           quick|recipe|recipes|ho...|\n",
      "| -LoSw4o2zDQ|          kawaii|recipe|recipes|ho...|\n",
      "| -LoSw4o2zDQ|   kawaii baking|recipe|recipes|ho...|\n",
      "| -LoSw4o2zDQ|kawaiisweetworld|recipe|recipes|ho...|\n",
      "| -LoSw4o2zDQ|     kawaii food|recipe|recipes|ho...|\n",
      "| -LoSw4o2zDQ|       cute food|recipe|recipes|ho...|\n",
      "| -LoSw4o2zDQ|     cute baking|recipe|recipes|ho...|\n",
      "| -LoSw4o2zDQ|    cute dessert|recipe|recipes|ho...|\n",
      "| -LoSw4o2zDQ|  kawaii dessert|recipe|recipes|ho...|\n",
      "| -LoSw4o2zDQ|     easy baking|recipe|recipes|ho...|\n",
      "+------------+----------------+--------------------+\n",
      "only showing top 20 rows\n",
      "\n"
     ]
    }
   ],
   "source": [
    "tags_udf = videos_sdim_df\\\n",
    "    .select([\\\n",
    "        videos_sdim_df.video_id.alias('tag_video_id'),\\\n",
    "        split_udf(videos_sdim_df.tags, '|').alias('tags_array'),\\\n",
    "        videos_sdim_df.tags]\\\n",
    "    )\\\n",
    "    .select([\\\n",
    "        col('tag_video_id'),\\\n",
    "        explode(col('tags_array')).alias('tag'),\\\n",
    "        col('tags')\\\n",
    "    ])\n",
    "tags_udf.show()"
   ]
  },
  {
   "cell_type": "code",
   "execution_count": 20,
   "id": "5a445a81",
   "metadata": {},
   "outputs": [
    {
     "name": "stdout",
     "output_type": "stream",
     "text": [
      "+------------+----------------+--------------------+\n",
      "|tag_video_id|             tag|                tags|\n",
      "+------------+----------------+--------------------+\n",
      "| -LoSw4o2zDQ|          recipe|recipe|recipes|ho...|\n",
      "| -LoSw4o2zDQ|         recipes|recipe|recipes|ho...|\n",
      "| -LoSw4o2zDQ|     how to make|recipe|recipes|ho...|\n",
      "| -LoSw4o2zDQ|     how to bake|recipe|recipes|ho...|\n",
      "| -LoSw4o2zDQ|         cooking|recipe|recipes|ho...|\n",
      "| -LoSw4o2zDQ|            food|recipe|recipes|ho...|\n",
      "| -LoSw4o2zDQ|          sweets|recipe|recipes|ho...|\n",
      "| -LoSw4o2zDQ|         dessert|recipe|recipes|ho...|\n",
      "| -LoSw4o2zDQ|            cute|recipe|recipes|ho...|\n",
      "| -LoSw4o2zDQ|            easy|recipe|recipes|ho...|\n",
      "| -LoSw4o2zDQ|           quick|recipe|recipes|ho...|\n",
      "| -LoSw4o2zDQ|          kawaii|recipe|recipes|ho...|\n",
      "| -LoSw4o2zDQ|   kawaii baking|recipe|recipes|ho...|\n",
      "| -LoSw4o2zDQ|kawaiisweetworld|recipe|recipes|ho...|\n",
      "| -LoSw4o2zDQ|     kawaii food|recipe|recipes|ho...|\n",
      "| -LoSw4o2zDQ|       cute food|recipe|recipes|ho...|\n",
      "| -LoSw4o2zDQ|     cute baking|recipe|recipes|ho...|\n",
      "| -LoSw4o2zDQ|    cute dessert|recipe|recipes|ho...|\n",
      "| -LoSw4o2zDQ|  kawaii dessert|recipe|recipes|ho...|\n",
      "| -LoSw4o2zDQ|     easy baking|recipe|recipes|ho...|\n",
      "+------------+----------------+--------------------+\n",
      "only showing top 20 rows\n",
      "\n"
     ]
    }
   ],
   "source": [
    "tags_pudf = videos_sdim_df\\\n",
    "    .select([\\\n",
    "        videos_sdim_df.video_id.alias('tag_video_id'),\\\n",
    "        split_pudf(videos_sdim_df.tags, '|').alias('tags_array'),\\\n",
    "        videos_sdim_df.tags]\\\n",
    "    )\\\n",
    "    .select([\\\n",
    "        col('tag_video_id'),\\\n",
    "        explode(col('tags_array')).alias('tag'),\\\n",
    "        col('tags')\\\n",
    "    ])\n",
    "tags_pudf.show()"
   ]
  },
  {
   "cell_type": "code",
   "execution_count": 21,
   "id": "e3b2d141",
   "metadata": {},
   "outputs": [
    {
     "name": "stdout",
     "output_type": "stream",
     "text": [
      "+------------+----------------+--------------------+\n",
      "|tag_video_id|             tag|                tags|\n",
      "+------------+----------------+--------------------+\n",
      "| -LoSw4o2zDQ|          recipe|recipe|recipes|ho...|\n",
      "| -LoSw4o2zDQ|         recipes|recipe|recipes|ho...|\n",
      "| -LoSw4o2zDQ|     how to make|recipe|recipes|ho...|\n",
      "| -LoSw4o2zDQ|     how to bake|recipe|recipes|ho...|\n",
      "| -LoSw4o2zDQ|         cooking|recipe|recipes|ho...|\n",
      "| -LoSw4o2zDQ|            food|recipe|recipes|ho...|\n",
      "| -LoSw4o2zDQ|          sweets|recipe|recipes|ho...|\n",
      "| -LoSw4o2zDQ|         dessert|recipe|recipes|ho...|\n",
      "| -LoSw4o2zDQ|            cute|recipe|recipes|ho...|\n",
      "| -LoSw4o2zDQ|            easy|recipe|recipes|ho...|\n",
      "| -LoSw4o2zDQ|           quick|recipe|recipes|ho...|\n",
      "| -LoSw4o2zDQ|          kawaii|recipe|recipes|ho...|\n",
      "| -LoSw4o2zDQ|   kawaii baking|recipe|recipes|ho...|\n",
      "| -LoSw4o2zDQ|kawaiisweetworld|recipe|recipes|ho...|\n",
      "| -LoSw4o2zDQ|     kawaii food|recipe|recipes|ho...|\n",
      "| -LoSw4o2zDQ|       cute food|recipe|recipes|ho...|\n",
      "| -LoSw4o2zDQ|     cute baking|recipe|recipes|ho...|\n",
      "| -LoSw4o2zDQ|    cute dessert|recipe|recipes|ho...|\n",
      "| -LoSw4o2zDQ|  kawaii dessert|recipe|recipes|ho...|\n",
      "| -LoSw4o2zDQ|     easy baking|recipe|recipes|ho...|\n",
      "+------------+----------------+--------------------+\n",
      "only showing top 20 rows\n",
      "\n"
     ]
    }
   ],
   "source": [
    "tags_scala = videos_sdim_df\\\n",
    "    .select([\\\n",
    "        videos_sdim_df.video_id.alias('tag_video_id'),\\\n",
    "        split_scala(videos_sdim_df.tags).alias('tags_array'),\\\n",
    "        videos_sdim_df.tags]\\\n",
    "    )\\\n",
    "    .select([\\\n",
    "        col('tag_video_id'),\\\n",
    "        explode(col('tags_array')).alias('tag'),\\\n",
    "        col('tags')\\\n",
    "    ])\n",
    "tags_scala.show()"
   ]
  },
  {
   "attachments": {},
   "cell_type": "markdown",
   "id": "7646bf29",
   "metadata": {},
   "source": [
    "## Время выполнения верхних блоков\n",
    "\n",
    "Отображается в ноутбуке после отработки блока в vscode\n",
    "\n",
    "| вариант | время в секундах | повторный перезапуск |\n",
    "| --: | --:| --: |\n",
    "| split spark| 0.3 | 0.2 |\n",
    "| split udf| 0.4 | 0.3\n",
    "| split pandas udf| 0.5 | 0.5 |\n",
    "| split scala | 0.3 | 0.2 |"
   ]
  },
  {
   "cell_type": "code",
   "execution_count": 22,
   "id": "62ccbbc2",
   "metadata": {},
   "outputs": [
    {
     "name": "stdout",
     "output_type": "stream",
     "text": [
      "+-----------+-----------+\n",
      "|        tag|video_count|\n",
      "+-----------+-----------+\n",
      "|      funny|        217|\n",
      "|     comedy|        163|\n",
      "|       2017|         93|\n",
      "|      humor|         92|\n",
      "|     how to|         84|\n",
      "|     makeup|         77|\n",
      "|      music|         74|\n",
      "|       vlog|         73|\n",
      "|      video|         71|\n",
      "|   tutorial|         69|\n",
      "|  interview|         69|\n",
      "|  celebrity|         64|\n",
      "|     review|         61|\n",
      "|       news|         61|\n",
      "|celebrities|         59|\n",
      "|     beauty|         58|\n",
      "|       food|         57|\n",
      "|    science|         56|\n",
      "|   comedian|         55|\n",
      "|funny video|         54|\n",
      "+-----------+-----------+\n",
      "only showing top 20 rows\n",
      "\n"
     ]
    }
   ],
   "source": [
    "popular_tags = tags\\\n",
    "    .filter(col('tag') != '[none]')\\\n",
    "    .groupBy('tag')\\\n",
    "    .agg(\n",
    "        countDistinct('tag_video_id').alias('video_count')\n",
    "    )\\\n",
    "    .sort(col('video_count').desc())\n",
    "popular_tags.show()"
   ]
  },
  {
   "attachments": {},
   "cell_type": "markdown",
   "id": "a85b15f3",
   "metadata": {},
   "source": [
    "# Выбираем топ-5 комментариев по кошачьим видео"
   ]
  },
  {
   "cell_type": "code",
   "execution_count": 23,
   "id": "16fa8d25",
   "metadata": {},
   "outputs": [
    {
     "name": "stdout",
     "output_type": "stream",
     "text": [
      "+--------------------+--------------------+-----+----------+\n",
      "|         video_title|        comment_text|likes|row_number|\n",
      "+--------------------+--------------------+-----+----------+\n",
      "|7. Teach the Firs...|Cannot hear you, ...|    0|         1|\n",
      "|Cat vs Dog - Best...|The second I read...| 2355|         1|\n",
      "|Cat vs Dog - Best...|talk about the oc...| 1070|         2|\n",
      "|Cat vs Dog - Best...|talk about the oc...| 1021|         3|\n",
      "|Cat vs Dog - Best...|talk about the oc...|  957|         4|\n",
      "|Cat vs Dog - Best...|talk about the oc...|  802|         5|\n",
      "|Things you didn't...|Simon, I thought ...|    8|         1|\n",
      "|Things you didn't...|My cat loves stri...|    6|         2|\n",
      "|Things you didn't...|My cat loves stri...|    6|         3|\n",
      "|Things you didn't...|My cats 17 and st...|    6|         4|\n",
      "|Things you didn't...|My cats 17 and st...|    6|         5|\n",
      "| MEET MY NEW KITTEN!|I can’t believe h...|    4|         1|\n",
      "| MEET MY NEW KITTEN!|i want colleen to...|    2|         2|\n",
      "| MEET MY NEW KITTEN!|That's so weird, ...|    2|         3|\n",
      "| MEET MY NEW KITTEN!|DAISY IS SO FREAK...|    1|         4|\n",
      "| MEET MY NEW KITTEN!|OMG ITS SO CUTEE!...|    1|         5|\n",
      "|Japan's Ominous D...|Do a video on why...|    4|         1|\n",
      "|Japan's Ominous D...|Do a video on why...|    4|         2|\n",
      "|Japan's Ominous D...|So the cats were ...|    1|         3|\n",
      "|Japan's Ominous D...|This video was re...|    1|         4|\n",
      "+--------------------+--------------------+-----+----------+\n",
      "only showing top 20 rows\n",
      "\n"
     ]
    }
   ],
   "source": [
    "cats_top5_df = videos_sdim_df\\\n",
    "    .select(['video_id', col('title').alias('video_title')])\\\n",
    "    .join(tags.filter(col('tag') == 'cat').distinct(), videos_sdim_df.video_id == tags.tag_video_id, 'inner')\\\n",
    "    .join(comments.withColumnRenamed('video_id', 'comment_video_id'), col('comment_video_id') == videos_sdim_df.video_id, 'inner')\\\n",
    "    .select([\n",
    "        col('video_title'),\\\n",
    "        col('comment_text'),\\\n",
    "        col('likes'),\\\n",
    "        row_number().over(Window.partitionBy(col('video_id')).orderBy(col('likes').desc())).alias('row_number')\n",
    "    ])\\\n",
    "    .filter(col('row_number') <= 5)\n",
    "cats_top5_df.show()"
   ]
  }
 ],
 "metadata": {
  "kernelspec": {
   "display_name": "Python 3 (ipykernel)",
   "language": "python",
   "name": "python3"
  },
  "language_info": {
   "codemirror_mode": {
    "name": "ipython",
    "version": 3
   },
   "file_extension": ".py",
   "mimetype": "text/x-python",
   "name": "python",
   "nbconvert_exporter": "python",
   "pygments_lexer": "ipython3",
   "version": "3.11.3"
  }
 },
 "nbformat": 4,
 "nbformat_minor": 5
}
