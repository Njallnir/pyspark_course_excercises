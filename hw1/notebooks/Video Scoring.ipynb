{
 "cells": [
  {
   "attachments": {},
   "cell_type": "markdown",
   "id": "dc60779a",
   "metadata": {},
   "source": [
    "# Подключаем библиотеки"
   ]
  },
  {
   "cell_type": "code",
   "execution_count": 2,
   "id": "adb6efe2",
   "metadata": {},
   "outputs": [
    {
     "name": "stdout",
     "output_type": "stream",
     "text": [
      "Collecting mmh3\n",
      "  Downloading mmh3-4.0.0-cp311-cp311-manylinux_2_5_x86_64.manylinux1_x86_64.manylinux_2_17_x86_64.manylinux2014_x86_64.whl (68 kB)\n",
      "\u001b[2K     \u001b[90m━━━━━━━━━━━━━━━━━━━━━━━━━━━━━━━━━━━━━━━━\u001b[0m \u001b[32m68.3/68.3 kB\u001b[0m \u001b[31m1.5 MB/s\u001b[0m eta \u001b[36m0:00:00\u001b[0ma \u001b[36m0:00:01\u001b[0m\n",
      "\u001b[?25hCollecting bitarray\n",
      "  Downloading bitarray-2.7.4-cp311-cp311-manylinux_2_17_x86_64.manylinux2014_x86_64.whl (282 kB)\n",
      "\u001b[2K     \u001b[90m━━━━━━━━━━━━━━━━━━━━━━━━━━━━━━━━━━━━━━━\u001b[0m \u001b[32m282.8/282.8 kB\u001b[0m \u001b[31m4.7 MB/s\u001b[0m eta \u001b[36m0:00:00\u001b[0ma \u001b[36m0:00:01\u001b[0m\n",
      "\u001b[?25hInstalling collected packages: mmh3, bitarray\n",
      "Successfully installed bitarray-2.7.4 mmh3-4.0.0\n"
     ]
    }
   ],
   "source": [
    "!pip install --no-cache-dir mmh3 bitarray"
   ]
  },
  {
   "cell_type": "code",
   "execution_count": 32,
   "id": "b44a13b8",
   "metadata": {},
   "outputs": [],
   "source": [
    "import json\n",
    "import math\n",
    "import mmh3\n",
    "import numpy as np\n",
    "import os\n",
    "import pandas as pd\n",
    "import pyspark\n",
    "import pyspark.pandas as ps\n",
    "import random\n",
    "\n",
    "from bitarray import bitarray\n",
    "from pyspark.sql import SparkSession\n",
    "from pyspark.sql.column import Column\n",
    "from pyspark.sql.column import _to_java_column\n",
    "from pyspark.sql.column import _to_seq\n",
    "from pyspark.sql.functions import *\n",
    "from pyspark.sql.types import *\n",
    "from pyspark.sql.window import Window"
   ]
  },
  {
   "attachments": {},
   "cell_type": "markdown",
   "id": "25bdb10d",
   "metadata": {},
   "source": [
    "# Читаем данные"
   ]
  },
  {
   "attachments": {},
   "cell_type": "markdown",
   "id": "b5de9424",
   "metadata": {},
   "source": [
    "Оптимизация\n",
    "\n",
    "1. На видео и комментарии вешаем bucketing по video id - по этому полю происходит join чаще всего, и подобный подход позволяет избежать практически всех Exchange за исключением случаев, например, с groupby по другой колонке.\n",
    "2. На категории вешаем `broadcast` - маленький справочник\n",
    "3. Другие вариант оптимизации нерентабельны для соления нет значительного перекоса, фильтр Блума практически ничего не отфильтрует - джоин видео и комментариев не так много строк отбрасывает"
   ]
  },
  {
   "cell_type": "code",
   "execution_count": 4,
   "id": "1945012e-63e3-4d0b-b6b3-b2ed7a3061dd",
   "metadata": {},
   "outputs": [],
   "source": [
    "spark = SparkSession.builder.master('local') \\\n",
    "    .config('spark.sql.autoBroadcastJoinThreshold', 0) \\\n",
    "    .config('spark.sql.adaptive.enabled', 'false') \\\n",
    "    .getOrCreate()"
   ]
  },
  {
   "cell_type": "code",
   "execution_count": 6,
   "id": "1c2a19f1-09d4-433b-bb14-495e1f69bf43",
   "metadata": {},
   "outputs": [],
   "source": [
    "# videos = spark.read\\\n",
    "#     .option('header', 'true')\\\n",
    "#     .option('inferSchema', 'true')\\\n",
    "#     .csv('datasets/USvideos.csv')\n",
    "\n",
    "videos_raw = spark.read\\\n",
    "    .option('header', 'true')\\\n",
    "    .option('inferSchema', 'true')\\\n",
    "    .csv('datasets/USvideos.csv')\n",
    "videos_raw.write\\\n",
    "    .bucketBy(128, 'video_id')\\\n",
    "    .saveAsTable('USvideos', format = 'csv', mode = 'overwrite')\n",
    "videos = spark.table('USvideos')"
   ]
  },
  {
   "cell_type": "code",
   "execution_count": 7,
   "id": "34fcc140",
   "metadata": {},
   "outputs": [],
   "source": [
    "videos_sdim_df = videos\\\n",
    "    .withColumn('rnk', row_number()\\\n",
    "                .over(Window.partitionBy('video_id').orderBy(col('date').desc(), col('views').desc()))\\\n",
    "                )\\\n",
    "                .filter(col('rnk') == 1)\\\n",
    "                .drop(col('rnk'))"
   ]
  },
  {
   "cell_type": "code",
   "execution_count": 8,
   "id": "805005cc-0c92-45e3-ab79-44a348f9c2d3",
   "metadata": {},
   "outputs": [],
   "source": [
    "comments_schema = StructType([ \\\n",
    "    StructField('video_id', StringType(), True), \\\n",
    "    StructField('comment_text', StringType(), True), \\\n",
    "    StructField('likes', IntegerType(), True), \\\n",
    "    StructField('replies', IntegerType(), True)])\n",
    "\n",
    "# comments = spark.read.option('header', 'true').option('mode', 'DROPMALFORMED').schema(comments_schema).csv('datasets/UScomments.csv')\n",
    "\n",
    "comments_raw = spark.read.option('header', 'true').option('mode', 'DROPMALFORMED').schema(comments_schema).csv('datasets/UScomments.csv')\n",
    "\n",
    "comments_raw.write \\\n",
    "    .bucketBy(128, 'video_id') \\\n",
    "    .saveAsTable('USComments', fprmat = 'csv', mode = 'overwrite')\n",
    "\n",
    "comments = spark.table('USComments')"
   ]
  },
  {
   "attachments": {},
   "cell_type": "markdown",
   "id": "d842bcf7",
   "metadata": {},
   "source": [
    "# Считаем рейтинг видео"
   ]
  },
  {
   "cell_type": "code",
   "execution_count": 9,
   "id": "7691eda5",
   "metadata": {},
   "outputs": [],
   "source": [
    "@udf(returnType = DoubleType())\n",
    "def calculate_video_score(views: int, likes: int, dislikes: int,comment_likes_count: int):\n",
    "    return\\\n",
    "        int(likes or 0)\\\n",
    "        + random.random() * int(views or 0) * 0.2\\\n",
    "        - 2 * int(dislikes or 0)\\\n",
    "        + int(comment_likes_count or 0) * 0.01\n"
   ]
  },
  {
   "cell_type": "code",
   "execution_count": 10,
   "id": "540cc05c",
   "metadata": {},
   "outputs": [
    {
     "name": "stderr",
     "output_type": "stream",
     "text": [
      "/usr/local/spark/python/pyspark/sql/pandas/functions.py:399: UserWarning: In Python 3.6+ and Spark 3.0+, it is preferred to specify type hints for pandas UDF instead of specifying pandas UDF type which will be deprecated in the future releases. See SPARK-28264 for more details.\n",
      "  warnings.warn(\n"
     ]
    }
   ],
   "source": [
    "@pandas_udf(DoubleType(),PandasUDFType.SCALAR)\n",
    "def calculate_video_score(views, likes, dislikes,comment_likes_count):\n",
    "    return\\\n",
    "        likes.fillna(0)\\\n",
    "        + np.random.rand(*views.shape) * views.fillna(0) * 0.2\\\n",
    "        - 2 * dislikes.fillna(0)\\\n",
    "        + comment_likes_count.fillna(0) * 0.01\n"
   ]
  },
  {
   "cell_type": "code",
   "execution_count": 11,
   "id": "db84c578-240c-42d3-8b69-5880a8ea2ad2",
   "metadata": {},
   "outputs": [],
   "source": [
    "video_comments_figures = comments.groupBy('video_id')\\\n",
    "    .agg(\\\n",
    "        sum('likes').alias('comment_likes_count'),\\\n",
    "        sum('replies').alias('comment_replies_count')\\\n",
    "        )"
   ]
  },
  {
   "cell_type": "code",
   "execution_count": 12,
   "id": "41b7e83b",
   "metadata": {},
   "outputs": [
    {
     "name": "stdout",
     "output_type": "stream",
     "text": [
      "+-----------+--------------------+--------------------+-----------+--------------------+-------+------+--------+-------------+--------------------+-----+-------------------+------------------+\n",
      "|   video_id|               title|       channel_title|category_id|                tags|  views| likes|dislikes|comment_total|      thumbnail_link| date|comment_likes_count|       video_score|\n",
      "+-----------+--------------------+--------------------+-----------+--------------------+-------+------+--------+-------------+--------------------+-----+-------------------+------------------+\n",
      "|-LoSw4o2zDQ|How to Make Pushe...|    kawaiisweetworld|         26|recipe|recipes|ho...|  62600|  4715|      29|          483|https://i.ytimg.c...|14.10|                567|  7331.97481412826|\n",
      "|2Hz4sDjXPQY|Kingsman: The Gol...|    20th Century Fox|          1|Puppy|Spy Movies|...| 288222|  2003|      77|          208|https://i.ytimg.c...|21.09|               3692| 45818.36661693138|\n",
      "|2YGrrsKs-Xg|Jimmy Kimmel’s FU...|   Jimmy Kimmel Live|         23|jimmy|jimmy kimme...|1287641| 14600|    1220|         2294|https://i.ytimg.c...|19.10|                  9| 52203.39256001584|\n",
      "|BHD3uqfbcRQ|How To Make Sausa...|         Bon Appétit|         26|sausage|sausage m...| 189914|  5483|     109|          615|https://i.ytimg.c...|18.10|                118| 41350.15794758665|\n",
      "|SeUyzOP3mys|Intense 🎙️ ASMR ...|Gentle Whispering...|         26|ASMR|[ASMR]|asmr|...| 921008| 24448|    1062|         5360|https://i.ytimg.c...|14.10|               5093|150550.59839387424|\n",
      "|TMy0vJfKvzI|A Boy Ate 25 Laxa...|           Chubbyemu|         28|medical|medicine|...| 733187| 12590|     505|         1432|https://i.ytimg.c...|07.10|                803| 95451.47332215577|\n",
      "|W-97_yKHQHg|More than 800 peo...|            CBS News|         25|World|spain|catal...|  15405|   169|      14|          196|https://i.ytimg.c...|03.10|                245|459.15204406365655|\n",
      "|_oO0pd8VJjY|      Late Night Pho|              Domics|         23|domics|animation|...|1987959|150289|     921|        13857|https://i.ytimg.c...|06.10|                 38| 418031.8692595811|\n",
      "|c5vSFtnWkDA|OFFICIAL HOUSE TO...|     Domo and Crissy|         23|domo|domo and cri...|1204955| 76135|    1798|         9697|https://i.ytimg.c...|16.10|              27518|249513.86379606157|\n",
      "|cWL4eiCR8FM|DIY Halloween PIN...|        ThreadBanger|         26|DIY|threadbanger|...| 862970| 44671|     569|         3811|https://i.ytimg.c...|22.10|                 10| 63549.49601944145|\n",
      "|g_ekn1gjBq0|The Difference Be...|          Refinery29|         26|refinery29|refine...|   9534|   213|      10|           32|https://i.ytimg.c...|04.10|                 47| 847.5773157694924|\n",
      "|ge0fLnC_WNc|Donald Trump on N...|                 CNN|         25|President|Donald ...| 119114|   568|     937|         1850|https://i.ytimg.c...|09.10|                 13|16108.507071551603|\n",
      "|jjb77v3LX_s|The King of Infom...|     Great Big Story|         22|great big story|g...| 219221|  4532|     152|          553|https://i.ytimg.c...|20.09|                 39| 39260.90604009277|\n",
      "|lno7AN8hLvQ|My Butt Has Some ...|        vlogbrothers|         22|              [none]| 248787| 12683|     566|         2096|https://i.ytimg.c...|20.09|                 36| 56602.59441358088|\n",
      "|tBN9kLaS-uw|My Boyfriend Buys...|        JennaMarbles|         23|jenna|marbles|mou...|2822860|175347|    1710|        16202|https://i.ytimg.c...|20.09|                 73|456498.68258031335|\n",
      "|tfHCtgyT-oQ|Turtles All the W...|        vlogbrothers|         22|books|reading|pub...| 246029| 15603|     217|         2189|https://i.ytimg.c...|13.10|                 32| 38296.46999529313|\n",
      "|-QL9dvmddYs|Ollie's Baby is B...|               JOLLY|         23|Jolly|JOLLY|jolly...| 693211| 36518|     197|         5897|https://i.ytimg.c...|30.09|                 42|144063.79861099526|\n",
      "|5qlSfNVp3fU|Crazy Lion Plays ...|  Cole and Marmalade|         15|cats|cat videos|f...| 376610|  8214|     240|          111|https://i.ytimg.c...|19.10|               1428| 70211.77054120705|\n",
      "|6cnobaJFY-M|The Voice 2017 - ...|           The Voice|         24|Exclusive Content...| 390967|  4156|     287|          794|https://i.ytimg.c...|22.10|                 90| 45802.45131146648|\n",
      "|7uOvL5eLpeE|Jeremy Camp - Nev...|      JeremyCampVEVO|         10|Jeremy|Camp|Never...|  21708|  1712|      17|          134|https://i.ytimg.c...|30.09|                751| 5003.598585770289|\n",
      "+-----------+--------------------+--------------------+-----------+--------------------+-------+------+--------+-------------+--------------------+-----+-------------------+------------------+\n",
      "only showing top 20 rows\n",
      "\n"
     ]
    }
   ],
   "source": [
    "scored_video = videos_sdim_df.alias('videos')\\\n",
    "    .join(video_comments_figures, videos_sdim_df.video_id == video_comments_figures.video_id, 'left')\\\n",
    "    .select([\n",
    "        'videos.*',\n",
    "        col('comment_likes_count')\n",
    "    ])\\\n",
    "    .withColumn(\\\n",
    "        'video_score',\\\n",
    "        calculate_video_score(\\\n",
    "            col('views'),\\\n",
    "            col('likes'),\\\n",
    "            col('dislikes'),\\\n",
    "            col('comment_likes_count')\\\n",
    "        )\\\n",
    "    )\n",
    "scored_video.show()"
   ]
  },
  {
   "attachments": {},
   "cell_type": "markdown",
   "id": "69461b6f",
   "metadata": {},
   "source": [
    "# Собираем медиану рейтинга по категории"
   ]
  },
  {
   "cell_type": "code",
   "execution_count": 13,
   "id": "deeea477",
   "metadata": {},
   "outputs": [],
   "source": [
    "@pandas_udf(DoubleType(), PandasUDFType.GROUPED_AGG)\n",
    "def pandas_mean(x):\n",
    "    return x.mean()\n"
   ]
  },
  {
   "cell_type": "code",
   "execution_count": 14,
   "id": "616e875f",
   "metadata": {},
   "outputs": [],
   "source": [
    "categories_json = json.load(open('datasets/US_category_id.json'))\n",
    "[x.update(x['snippet']) for x in categories_json['items']]\n",
    "\n",
    "# categories_df = spark.read.json(\\\n",
    "#         spark.sparkContext.parallelize(categories_json['items']).map(lambda x: json.dumps(x))\n",
    "#     ).select(['id', 'title'])\\\n",
    "#     .withColumnRenamed('title', 'category_title')\n",
    "\n",
    "categories_df = broadcast(spark.read.json(\\\n",
    "        spark.sparkContext.parallelize(categories_json['items']).map(lambda x: json.dumps(x))\n",
    "    ).select(['id', 'title'])\\\n",
    "    .withColumnRenamed('title', 'category_title'))"
   ]
  },
  {
   "cell_type": "code",
   "execution_count": 15,
   "id": "5950ce87",
   "metadata": {},
   "outputs": [
    {
     "name": "stdout",
     "output_type": "stream",
     "text": [
      "+--------------------+------------------+\n",
      "|      category_title|        mean_score|\n",
      "+--------------------+------------------+\n",
      "|               Shows| 781.8538583764346|\n",
      "|           Education| 83200.28397116455|\n",
      "|              Gaming| 91813.66738934316|\n",
      "|       Entertainment|129587.28933603792|\n",
      "|     Travel & Events|49384.036198117385|\n",
      "|Science & Technology|105232.93772166967|\n",
      "|              Sports| 77201.76227951267|\n",
      "|       Howto & Style| 84627.50188521037|\n",
      "|Nonprofits & Acti...| 26836.66607927107|\n",
      "|    Film & Animation|117124.36388825392|\n",
      "|      People & Blogs|118933.22384255001|\n",
      "|     News & Politics|49529.351386162256|\n",
      "|      Pets & Animals| 73817.38143531102|\n",
      "|    Autos & Vehicles| 87624.90155207676|\n",
      "|               Music| 236634.7083211785|\n",
      "|              Comedy|185271.31446977268|\n",
      "+--------------------+------------------+\n",
      "\n"
     ]
    }
   ],
   "source": [
    "categories_score_df =  scored_video\\\n",
    "    .join(\\\n",
    "        categories_df,\\\n",
    "        scored_video.category_id == categories_df.id,\\\n",
    "        'left')\\\n",
    "    .groupBy('category_title')\\\n",
    "    .agg(\n",
    "        pandas_mean(scored_video.video_score).alias('mean_score')\n",
    "    )\n",
    "categories_score_df.show()\n"
   ]
  },
  {
   "cell_type": "code",
   "execution_count": 16,
   "id": "c675756f",
   "metadata": {},
   "outputs": [
    {
     "name": "stdout",
     "output_type": "stream",
     "text": [
      "+--------------------+------------------+\n",
      "|      category_title|       video_score|\n",
      "+--------------------+------------------+\n",
      "|               Shows|1797.9088336726456|\n",
      "|           Education| 70727.74417637438|\n",
      "|              Gaming|  90991.2812355959|\n",
      "|       Entertainment| 131538.9753914034|\n",
      "|     Travel & Events| 79585.41706166138|\n",
      "|Science & Technology| 116646.9337100415|\n",
      "|              Sports| 74188.48787450088|\n",
      "|       Howto & Style| 82296.86617911432|\n",
      "|Nonprofits & Acti...|122660.94911182692|\n",
      "|    Film & Animation|123743.57479902435|\n",
      "|      People & Blogs| 110720.6687553905|\n",
      "|     News & Politics| 47435.46835195115|\n",
      "|      Pets & Animals| 87043.92337701372|\n",
      "|    Autos & Vehicles| 69452.26399906151|\n",
      "|               Music| 165965.0716780983|\n",
      "|              Comedy|184005.62990291786|\n",
      "+--------------------+------------------+\n",
      "\n"
     ]
    }
   ],
   "source": [
    "categories_score_psdf = scored_video\\\n",
    "                .join(\\\n",
    "                    categories_df,\\\n",
    "                    scored_video.category_id == categories_df.id,\\\n",
    "                    'left')\\\n",
    "                .select([\n",
    "                    categories_df.category_title,\n",
    "                    scored_video.video_score\n",
    "                ]).pandas_api()\\\n",
    "                .groupby(['category_title'])['video_score'].mean()\n",
    "categories_score_psdf.to_frame().to_spark(index_col = 'category_title').show()"
   ]
  },
  {
   "cell_type": "code",
   "execution_count": 17,
   "id": "eadc9e96",
   "metadata": {},
   "outputs": [
    {
     "name": "stdout",
     "output_type": "stream",
     "text": [
      "+--------------------+------------------+\n",
      "|      category_title|       video_score|\n",
      "+--------------------+------------------+\n",
      "|               Shows| 452.8823490433658|\n",
      "|           Education| 54552.37507135073|\n",
      "|              Gaming| 83466.48427084014|\n",
      "|       Entertainment|138385.43657490818|\n",
      "|     Travel & Events|  45424.6745538014|\n",
      "|Science & Technology|105591.14975591475|\n",
      "|              Sports| 84113.87940129952|\n",
      "|       Howto & Style|  87215.9552810169|\n",
      "|Nonprofits & Acti...|12634.302236719013|\n",
      "|    Film & Animation|138075.28692698054|\n",
      "|      People & Blogs|106462.21505400244|\n",
      "|     News & Politics|46084.764782033744|\n",
      "|      Pets & Animals| 77713.76606922636|\n",
      "|    Autos & Vehicles| 64702.59248374513|\n",
      "|               Music|193810.47583083526|\n",
      "|              Comedy|203670.40852252278|\n",
      "+--------------------+------------------+\n",
      "\n"
     ]
    }
   ],
   "source": [
    "categories_score_psdf_full = ps.merge(\n",
    "    scored_video.pandas_api(),\n",
    "    categories_df.pandas_api(),\n",
    "    how = 'inner',\n",
    "    left_on = 'category_id',\n",
    "    right_on = 'id').groupby(['category_title'])['video_score'].mean()\n",
    "categories_score_psdf_full.to_frame().to_spark(index_col = 'category_title').show()"
   ]
  },
  {
   "attachments": {},
   "cell_type": "markdown",
   "id": "040f7ce1",
   "metadata": {},
   "source": [
    "# Смотрим на популярные тэги"
   ]
  },
  {
   "cell_type": "code",
   "execution_count": 18,
   "id": "582282ee",
   "metadata": {},
   "outputs": [],
   "source": [
    "def split_udf(value, separator):\n",
    "    @udf(returnType = ArrayType(StringType()))\n",
    "    def split_udf_inner(value):\n",
    "        return value.split(separator)\n",
    "    return split_udf_inner(value)"
   ]
  },
  {
   "cell_type": "code",
   "execution_count": 19,
   "id": "93181ee0",
   "metadata": {},
   "outputs": [],
   "source": [
    "def split_pudf(value, separator):\n",
    "    @pandas_udf(ArrayType(StringType()), PandasUDFType.SCALAR)\n",
    "    def split_pudf_inner(value):\n",
    "        return value.str.split(pat=separator)\n",
    "    return split_pudf_inner(value)"
   ]
  },
  {
   "cell_type": "code",
   "execution_count": 20,
   "id": "f746186f",
   "metadata": {},
   "outputs": [],
   "source": [
    "def split_scala(tags):\n",
    "    _split_scala_udf = spark._jvm.CustomUDFs.splitTagsUDF()\n",
    "    return Column(_split_scala_udf.apply(_to_seq(spark, [tags], _to_java_column)))"
   ]
  },
  {
   "cell_type": "code",
   "execution_count": 21,
   "id": "72637f36",
   "metadata": {},
   "outputs": [
    {
     "name": "stdout",
     "output_type": "stream",
     "text": [
      "+------------+----------------+--------------------+\n",
      "|tag_video_id|             tag|                tags|\n",
      "+------------+----------------+--------------------+\n",
      "| -LoSw4o2zDQ|          recipe|recipe|recipes|ho...|\n",
      "| -LoSw4o2zDQ|         recipes|recipe|recipes|ho...|\n",
      "| -LoSw4o2zDQ|     how to make|recipe|recipes|ho...|\n",
      "| -LoSw4o2zDQ|     how to bake|recipe|recipes|ho...|\n",
      "| -LoSw4o2zDQ|         cooking|recipe|recipes|ho...|\n",
      "| -LoSw4o2zDQ|            food|recipe|recipes|ho...|\n",
      "| -LoSw4o2zDQ|          sweets|recipe|recipes|ho...|\n",
      "| -LoSw4o2zDQ|         dessert|recipe|recipes|ho...|\n",
      "| -LoSw4o2zDQ|            cute|recipe|recipes|ho...|\n",
      "| -LoSw4o2zDQ|            easy|recipe|recipes|ho...|\n",
      "| -LoSw4o2zDQ|           quick|recipe|recipes|ho...|\n",
      "| -LoSw4o2zDQ|          kawaii|recipe|recipes|ho...|\n",
      "| -LoSw4o2zDQ|   kawaii baking|recipe|recipes|ho...|\n",
      "| -LoSw4o2zDQ|kawaiisweetworld|recipe|recipes|ho...|\n",
      "| -LoSw4o2zDQ|     kawaii food|recipe|recipes|ho...|\n",
      "| -LoSw4o2zDQ|       cute food|recipe|recipes|ho...|\n",
      "| -LoSw4o2zDQ|     cute baking|recipe|recipes|ho...|\n",
      "| -LoSw4o2zDQ|    cute dessert|recipe|recipes|ho...|\n",
      "| -LoSw4o2zDQ|  kawaii dessert|recipe|recipes|ho...|\n",
      "| -LoSw4o2zDQ|     easy baking|recipe|recipes|ho...|\n",
      "+------------+----------------+--------------------+\n",
      "only showing top 20 rows\n",
      "\n"
     ]
    }
   ],
   "source": [
    "tags = videos_sdim_df\\\n",
    "    .select([\\\n",
    "        videos_sdim_df.video_id.alias('tag_video_id'),\\\n",
    "        split(videos_sdim_df.tags, '\\|').alias('tags_array'),\\\n",
    "        videos_sdim_df.tags]\\\n",
    "    )\\\n",
    "    .select([\\\n",
    "        col('tag_video_id'),\\\n",
    "        explode(col('tags_array')).alias('tag'),\\\n",
    "        col('tags')\\\n",
    "    ])\n",
    "tags.show()"
   ]
  },
  {
   "cell_type": "code",
   "execution_count": 22,
   "id": "f84b6464",
   "metadata": {},
   "outputs": [
    {
     "name": "stdout",
     "output_type": "stream",
     "text": [
      "+------------+----------------+--------------------+\n",
      "|tag_video_id|             tag|                tags|\n",
      "+------------+----------------+--------------------+\n",
      "| -LoSw4o2zDQ|          recipe|recipe|recipes|ho...|\n",
      "| -LoSw4o2zDQ|         recipes|recipe|recipes|ho...|\n",
      "| -LoSw4o2zDQ|     how to make|recipe|recipes|ho...|\n",
      "| -LoSw4o2zDQ|     how to bake|recipe|recipes|ho...|\n",
      "| -LoSw4o2zDQ|         cooking|recipe|recipes|ho...|\n",
      "| -LoSw4o2zDQ|            food|recipe|recipes|ho...|\n",
      "| -LoSw4o2zDQ|          sweets|recipe|recipes|ho...|\n",
      "| -LoSw4o2zDQ|         dessert|recipe|recipes|ho...|\n",
      "| -LoSw4o2zDQ|            cute|recipe|recipes|ho...|\n",
      "| -LoSw4o2zDQ|            easy|recipe|recipes|ho...|\n",
      "| -LoSw4o2zDQ|           quick|recipe|recipes|ho...|\n",
      "| -LoSw4o2zDQ|          kawaii|recipe|recipes|ho...|\n",
      "| -LoSw4o2zDQ|   kawaii baking|recipe|recipes|ho...|\n",
      "| -LoSw4o2zDQ|kawaiisweetworld|recipe|recipes|ho...|\n",
      "| -LoSw4o2zDQ|     kawaii food|recipe|recipes|ho...|\n",
      "| -LoSw4o2zDQ|       cute food|recipe|recipes|ho...|\n",
      "| -LoSw4o2zDQ|     cute baking|recipe|recipes|ho...|\n",
      "| -LoSw4o2zDQ|    cute dessert|recipe|recipes|ho...|\n",
      "| -LoSw4o2zDQ|  kawaii dessert|recipe|recipes|ho...|\n",
      "| -LoSw4o2zDQ|     easy baking|recipe|recipes|ho...|\n",
      "+------------+----------------+--------------------+\n",
      "only showing top 20 rows\n",
      "\n"
     ]
    }
   ],
   "source": [
    "tags_udf = videos_sdim_df\\\n",
    "    .select([\\\n",
    "        videos_sdim_df.video_id.alias('tag_video_id'),\\\n",
    "        split_udf(videos_sdim_df.tags, '|').alias('tags_array'),\\\n",
    "        videos_sdim_df.tags]\\\n",
    "    )\\\n",
    "    .select([\\\n",
    "        col('tag_video_id'),\\\n",
    "        explode(col('tags_array')).alias('tag'),\\\n",
    "        col('tags')\\\n",
    "    ])\n",
    "tags_udf.show()"
   ]
  },
  {
   "cell_type": "code",
   "execution_count": 23,
   "id": "5a445a81",
   "metadata": {},
   "outputs": [
    {
     "name": "stdout",
     "output_type": "stream",
     "text": [
      "+------------+----------------+--------------------+\n",
      "|tag_video_id|             tag|                tags|\n",
      "+------------+----------------+--------------------+\n",
      "| -LoSw4o2zDQ|          recipe|recipe|recipes|ho...|\n",
      "| -LoSw4o2zDQ|         recipes|recipe|recipes|ho...|\n",
      "| -LoSw4o2zDQ|     how to make|recipe|recipes|ho...|\n",
      "| -LoSw4o2zDQ|     how to bake|recipe|recipes|ho...|\n",
      "| -LoSw4o2zDQ|         cooking|recipe|recipes|ho...|\n",
      "| -LoSw4o2zDQ|            food|recipe|recipes|ho...|\n",
      "| -LoSw4o2zDQ|          sweets|recipe|recipes|ho...|\n",
      "| -LoSw4o2zDQ|         dessert|recipe|recipes|ho...|\n",
      "| -LoSw4o2zDQ|            cute|recipe|recipes|ho...|\n",
      "| -LoSw4o2zDQ|            easy|recipe|recipes|ho...|\n",
      "| -LoSw4o2zDQ|           quick|recipe|recipes|ho...|\n",
      "| -LoSw4o2zDQ|          kawaii|recipe|recipes|ho...|\n",
      "| -LoSw4o2zDQ|   kawaii baking|recipe|recipes|ho...|\n",
      "| -LoSw4o2zDQ|kawaiisweetworld|recipe|recipes|ho...|\n",
      "| -LoSw4o2zDQ|     kawaii food|recipe|recipes|ho...|\n",
      "| -LoSw4o2zDQ|       cute food|recipe|recipes|ho...|\n",
      "| -LoSw4o2zDQ|     cute baking|recipe|recipes|ho...|\n",
      "| -LoSw4o2zDQ|    cute dessert|recipe|recipes|ho...|\n",
      "| -LoSw4o2zDQ|  kawaii dessert|recipe|recipes|ho...|\n",
      "| -LoSw4o2zDQ|     easy baking|recipe|recipes|ho...|\n",
      "+------------+----------------+--------------------+\n",
      "only showing top 20 rows\n",
      "\n"
     ]
    }
   ],
   "source": [
    "tags_pudf = videos_sdim_df\\\n",
    "    .select([\\\n",
    "        videos_sdim_df.video_id.alias('tag_video_id'),\\\n",
    "        split_pudf(videos_sdim_df.tags, '|').alias('tags_array'),\\\n",
    "        videos_sdim_df.tags]\\\n",
    "    )\\\n",
    "    .select([\\\n",
    "        col('tag_video_id'),\\\n",
    "        explode(col('tags_array')).alias('tag'),\\\n",
    "        col('tags')\\\n",
    "    ])\n",
    "tags_pudf.show()"
   ]
  },
  {
   "cell_type": "code",
   "execution_count": 24,
   "id": "e3b2d141",
   "metadata": {},
   "outputs": [
    {
     "name": "stdout",
     "output_type": "stream",
     "text": [
      "+------------+----------------+--------------------+\n",
      "|tag_video_id|             tag|                tags|\n",
      "+------------+----------------+--------------------+\n",
      "| -LoSw4o2zDQ|          recipe|recipe|recipes|ho...|\n",
      "| -LoSw4o2zDQ|         recipes|recipe|recipes|ho...|\n",
      "| -LoSw4o2zDQ|     how to make|recipe|recipes|ho...|\n",
      "| -LoSw4o2zDQ|     how to bake|recipe|recipes|ho...|\n",
      "| -LoSw4o2zDQ|         cooking|recipe|recipes|ho...|\n",
      "| -LoSw4o2zDQ|            food|recipe|recipes|ho...|\n",
      "| -LoSw4o2zDQ|          sweets|recipe|recipes|ho...|\n",
      "| -LoSw4o2zDQ|         dessert|recipe|recipes|ho...|\n",
      "| -LoSw4o2zDQ|            cute|recipe|recipes|ho...|\n",
      "| -LoSw4o2zDQ|            easy|recipe|recipes|ho...|\n",
      "| -LoSw4o2zDQ|           quick|recipe|recipes|ho...|\n",
      "| -LoSw4o2zDQ|          kawaii|recipe|recipes|ho...|\n",
      "| -LoSw4o2zDQ|   kawaii baking|recipe|recipes|ho...|\n",
      "| -LoSw4o2zDQ|kawaiisweetworld|recipe|recipes|ho...|\n",
      "| -LoSw4o2zDQ|     kawaii food|recipe|recipes|ho...|\n",
      "| -LoSw4o2zDQ|       cute food|recipe|recipes|ho...|\n",
      "| -LoSw4o2zDQ|     cute baking|recipe|recipes|ho...|\n",
      "| -LoSw4o2zDQ|    cute dessert|recipe|recipes|ho...|\n",
      "| -LoSw4o2zDQ|  kawaii dessert|recipe|recipes|ho...|\n",
      "| -LoSw4o2zDQ|     easy baking|recipe|recipes|ho...|\n",
      "+------------+----------------+--------------------+\n",
      "only showing top 20 rows\n",
      "\n"
     ]
    }
   ],
   "source": [
    "tags_scala = videos_sdim_df\\\n",
    "    .select([\\\n",
    "        videos_sdim_df.video_id.alias('tag_video_id'),\\\n",
    "        split_scala(videos_sdim_df.tags).alias('tags_array'),\\\n",
    "        videos_sdim_df.tags]\\\n",
    "    )\\\n",
    "    .select([\\\n",
    "        col('tag_video_id'),\\\n",
    "        explode(col('tags_array')).alias('tag'),\\\n",
    "        col('tags')\\\n",
    "    ])\n",
    "tags_scala.show()"
   ]
  },
  {
   "attachments": {},
   "cell_type": "markdown",
   "id": "7646bf29",
   "metadata": {},
   "source": [
    "## Время выполнения верхних блоков\n",
    "\n",
    "Отображается в ноутбуке после отработки блока в vscode\n",
    "\n",
    "| вариант | время в секундах | повторный перезапуск |\n",
    "| --: | --:| --: |\n",
    "| split spark| 0.3 | 0.2 |\n",
    "| split udf| 0.4 | 0.3\n",
    "| split pandas udf| 0.5 | 0.5 |\n",
    "| split scala | 0.3 | 0.2 |"
   ]
  },
  {
   "cell_type": "code",
   "execution_count": 25,
   "id": "62ccbbc2",
   "metadata": {},
   "outputs": [
    {
     "name": "stdout",
     "output_type": "stream",
     "text": [
      "+-----------+-----------+\n",
      "|        tag|video_count|\n",
      "+-----------+-----------+\n",
      "|      funny|        217|\n",
      "|     comedy|        163|\n",
      "|       2017|         93|\n",
      "|      humor|         92|\n",
      "|     how to|         84|\n",
      "|     makeup|         77|\n",
      "|      music|         74|\n",
      "|       vlog|         73|\n",
      "|      video|         71|\n",
      "|   tutorial|         69|\n",
      "|  interview|         69|\n",
      "|  celebrity|         64|\n",
      "|     review|         61|\n",
      "|       news|         61|\n",
      "|celebrities|         59|\n",
      "|     beauty|         58|\n",
      "|       food|         57|\n",
      "|    science|         56|\n",
      "|   comedian|         55|\n",
      "|funny video|         54|\n",
      "+-----------+-----------+\n",
      "only showing top 20 rows\n",
      "\n"
     ]
    }
   ],
   "source": [
    "popular_tags = tags\\\n",
    "    .filter(col('tag') != '[none]')\\\n",
    "    .groupBy('tag')\\\n",
    "    .agg(\n",
    "        countDistinct('tag_video_id').alias('video_count')\n",
    "    )\\\n",
    "    .sort(col('video_count').desc())\n",
    "popular_tags.show()"
   ]
  },
  {
   "attachments": {},
   "cell_type": "markdown",
   "id": "a85b15f3",
   "metadata": {},
   "source": [
    "# Выбираем топ-5 комментариев по кошачьим видео"
   ]
  },
  {
   "attachments": {},
   "cell_type": "markdown",
   "id": "681fd773",
   "metadata": {},
   "source": [
    "## Создаем обвязку для фильтра Блума"
   ]
  },
  {
   "cell_type": "code",
   "execution_count": 26,
   "id": "32031774",
   "metadata": {},
   "outputs": [],
   "source": [
    "class BloomFilter(object):\n",
    "  \n",
    "    '''\n",
    "    Class for Bloom filter, using murmur3 hash function\n",
    "    '''\n",
    "  \n",
    "    def __init__(self, items_count, fp_prob):\n",
    "        '''\n",
    "        items_count : int\n",
    "            Number of items expected to be stored in bloom filter\n",
    "        fp_prob : float\n",
    "            False Positive probability in decimal\n",
    "        '''\n",
    "        self.items_count = items_count\n",
    "        \n",
    "        # False possible probability in decimal\n",
    "        self.fp_prob = fp_prob\n",
    "  \n",
    "        # Size of bit array to use\n",
    "        self.size = self.get_size(items_count, fp_prob)\n",
    "  \n",
    "        # number of hash functions to use\n",
    "        self.hash_count = self.get_hash_count(self.size, items_count)\n",
    "  \n",
    "        # Bit array of given size\n",
    "        self.bit_array = bitarray(self.size)\n",
    "  \n",
    "        # initialize all bits as 0\n",
    "        self.bit_array.setall(0)\n",
    "  \n",
    "    def add(self, item):\n",
    "        '''\n",
    "        Add an item in the filter\n",
    "        '''\n",
    "        digests = []\n",
    "        for i in range(self.hash_count):\n",
    "  \n",
    "            # create digest for given item.\n",
    "            # i work as seed to mmh3.hash() function\n",
    "            # With different seed, digest created is different\n",
    "            digest = mmh3.hash(item, i) % self.size\n",
    "            digests.append(digest)\n",
    "  \n",
    "            # set the bit True in bit_array\n",
    "            self.bit_array[digest] = True\n",
    "        \n",
    "    def union(self, other):\n",
    "        \"\"\" Calculates the union of the two underlying bitarrays and returns\n",
    "        a new bloom filter object.\"\"\"\n",
    "        new_bloom = self.copy()\n",
    "        new_bloom.bit_array = new_bloom.bit_array | other.bit_array\n",
    "        return new_bloom\n",
    "  \n",
    "    def check(self, item):\n",
    "        '''\n",
    "        Check for existence of an item in filter\n",
    "        '''\n",
    "        for i in range(self.hash_count):\n",
    "            digest = mmh3.hash(item, i) % self.size\n",
    "            if self.bit_array[digest] == False:\n",
    "  \n",
    "                # if any of bit is False then,its not present\n",
    "                # in filter\n",
    "                # else there is probability that it exist\n",
    "                return False\n",
    "        return True\n",
    "    \n",
    "    def copy(self):\n",
    "        \"\"\"Return a copy of this bloom filter.\n",
    "        \"\"\"\n",
    "        new_filter = BloomFilter(self.items_count, self.fp_prob)\n",
    "        new_filter.bit_array = self.bit_array.copy()\n",
    "        return new_filter\n",
    "    \n",
    "    def set_bit_array(self, bit_array):\n",
    "        self.bit_array = bit_array\n",
    "  \n",
    "    @classmethod\n",
    "    def get_size(self, n, p):\n",
    "        '''\n",
    "        Return the size of bit array(m) to used using\n",
    "        following formula\n",
    "        m = -(n * lg(p)) / (lg(2)^2)\n",
    "        n : int\n",
    "            number of items expected to be stored in filter\n",
    "        p : float\n",
    "            False Positive probability in decimal\n",
    "        '''\n",
    "        m = -(n * math.log(p))/(math.log(2)**2)\n",
    "        return int(m)\n",
    "  \n",
    "    @classmethod\n",
    "    def get_hash_count(self, m, n):\n",
    "        '''\n",
    "        Return the hash function(k) to be used using\n",
    "        following formula\n",
    "        k = (m/n) * lg(2)\n",
    "  \n",
    "        m : int\n",
    "            size of bit array\n",
    "        n : int\n",
    "            number of items expected to be stored in filter\n",
    "        '''\n",
    "        k = (m/n) * math.log(2)\n",
    "        return int(k)"
   ]
  },
  {
   "attachments": {},
   "cell_type": "markdown",
   "id": "29aafc0f",
   "metadata": {},
   "source": [
    "## Создаем фильтр"
   ]
  },
  {
   "cell_type": "code",
   "execution_count": 27,
   "id": "f66825f4",
   "metadata": {},
   "outputs": [],
   "source": [
    "cat_tagged_df = tags.filter(col('tag') == 'cat').cache()"
   ]
  },
  {
   "cell_type": "code",
   "execution_count": 37,
   "id": "193d3359",
   "metadata": {},
   "outputs": [],
   "source": [
    "filter_size = cat_tagged_df.count()\n",
    "prob = 0.05\n",
    "\n",
    "def fill_bloom_filter(bf, items):\n",
    "    for i in items: bf.add(str(i[0]))\n",
    "    return bf\n",
    "\n",
    "bloom_filter = BloomFilter(filter_size, prob)\n",
    "\n",
    "general_bit_array = cat_tagged_df\\\n",
    "                    .select(col('tag_video_id')).rdd\\\n",
    "                    .mapPartitions(lambda p: [fill_bloom_filter(BloomFilter(filter_size, prob), p).bit_array]) \\\n",
    "                    .reduce(lambda a, b: a | b)\n",
    "\n",
    "bloom_filter.set_bit_array(general_bit_array)\n",
    "\n",
    "maybe_in_bf = udf(lambda video_id: bloom_filter.check(str(video_id)))"
   ]
  },
  {
   "cell_type": "code",
   "execution_count": 40,
   "id": "16fa8d25",
   "metadata": {},
   "outputs": [
    {
     "name": "stdout",
     "output_type": "stream",
     "text": [
      "+------------------------------------+--------------------+-----+----------+\n",
      "|                         video_title|        comment_text|likes|row_number|\n",
      "+------------------------------------+--------------------+-----+----------+\n",
      "|                  Husky's First Howl|The expression at...|    5|         1|\n",
      "|                  Husky's First Howl|can I get subtitl...|    3|         2|\n",
      "|                  Husky's First Howl|This shit hella c...|    2|         3|\n",
      "|                  Husky's First Howl|There's still hop...|    2|         4|\n",
      "|                  Husky's First Howl|      How wholesome.|    2|         5|\n",
      "|                Cats Can Be A Rea...|Make sure to chec...|  304|         1|\n",
      "|                Cats Can Be A Rea...|Make sure to chec...|  293|         2|\n",
      "|                Cats Can Be A Rea...|Make sure to chec...|  279|         3|\n",
      "|                Cats Can Be A Rea...|Make sure to chec...|  259|         4|\n",
      "|                Cats Can Be A Rea...|Make sure to chec...|  194|         5|\n",
      "|更なるフィット感を追求するねこ。-...|How does Mugumogu...|   33|         1|\n",
      "|更なるフィット感を追求するねこ。-...|How does Mugumogu...|   17|         2|\n",
      "|更なるフィット感を追求するねこ。-...|This is a Maru in...|    2|         3|\n",
      "|更なるフィット感を追求するねこ。-...|Maru is putting h...|    2|         4|\n",
      "|更なるフィット感を追求するねこ。-...|He needs another ...|    2|         5|\n",
      "|                9 Things You Need...|I make interestin...|  839|         1|\n",
      "|                9 Things You Need...|Fact No.1 THEY AR...|    8|         2|\n",
      "|                9 Things You Need...|When my cat was s...|    7|         3|\n",
      "|                9 Things You Need...|Cats are lactose ...|    3|         4|\n",
      "|                9 Things You Need...|       ❤️=^..^= Mew!|    2|         5|\n",
      "+------------------------------------+--------------------+-----+----------+\n",
      "only showing top 20 rows\n",
      "\n"
     ]
    }
   ],
   "source": [
    "cats_top5_df = videos_sdim_df\\\n",
    "    .select(['video_id', col('title').alias('video_title')])\\\n",
    "    .filter(maybe_in_bf(col('video_id')) == True)\\\n",
    "    .join(cat_tagged_df, videos_sdim_df.video_id == tags.tag_video_id, 'inner')\\\n",
    "    .join(comments.withColumnRenamed('video_id', 'comment_video_id'), col('comment_video_id') == videos_sdim_df.video_id, 'inner')\\\n",
    "    .select([\n",
    "        col('video_title'),\\\n",
    "        col('comment_text'),\\\n",
    "        col('likes'),\\\n",
    "        row_number().over(Window.partitionBy(col('video_id')).orderBy(col('likes').desc())).alias('row_number')\n",
    "    ])\\\n",
    "    .filter(col('row_number') <= 5)\n",
    "print(cats_top5_df.count())\n",
    "cats_top5_df.show()"
   ]
  },
  {
   "cell_type": "code",
   "execution_count": null,
   "id": "68beed53",
   "metadata": {},
   "outputs": [],
   "source": [
    "cats_top5_df = videos_sdim_df\\\n",
    "    .select(['video_id', col('title').alias('video_title')])\\\n",
    "    .join(cat_tagged_df, videos_sdim_df.video_id == tags.tag_video_id, 'inner')\\\n",
    "    .join(comments.withColumnRenamed('video_id', 'comment_video_id'), col('comment_video_id') == videos_sdim_df.video_id, 'inner')\\\n",
    "    .select([\n",
    "        col('video_title'),\\\n",
    "        col('comment_text'),\\\n",
    "        col('likes'),\\\n",
    "        row_number().over(Window.partitionBy(col('video_id')).orderBy(col('likes').desc())).alias('row_number')\n",
    "    ])\\\n",
    "    .filter(col('row_number') <= 5)\n",
    "print(cats_top5_df.count())\n",
    "cats_top5_df.show()"
   ]
  }
 ],
 "metadata": {
  "kernelspec": {
   "display_name": "Python 3 (ipykernel)",
   "language": "python",
   "name": "python3"
  },
  "language_info": {
   "codemirror_mode": {
    "name": "ipython",
    "version": 3
   },
   "file_extension": ".py",
   "mimetype": "text/x-python",
   "name": "python",
   "nbconvert_exporter": "python",
   "pygments_lexer": "ipython3",
   "version": "3.11.3"
  }
 },
 "nbformat": 4,
 "nbformat_minor": 5
}
